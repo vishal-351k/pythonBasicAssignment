{
 "cells": [
  {
   "cell_type": "markdown",
   "id": "3b12f6d7-c67e-4f64-a671-a4ceba1a2629",
   "metadata": {},
   "source": [
    "## **1. Explain the key features of Python that make it a popular choice for programming.**"
   ]
  },
  {
   "cell_type": "markdown",
   "id": "b728d55b-c85e-4867-b3d3-da32a1c399c1",
   "metadata": {},
   "source": [
    "Python is a popular choice for programming due to several key features that make it easy to learn, efficient, and versatile. Here are some of the key features that contribute to Python's popularity:\n",
    "\n",
    "**a. Easy to Learn:** Python has a simple syntax and is relatively easy to learn, even for beginners. It's a high-level language, meaning it abstracts away many low-level details, allowing developers to focus on the logic of the program rather than the underlying machinery.\n",
    "    \n",
    "**b. Interpreted Language:** Python is an interpreted language, which means that it doesn't need to be compiled before it's run. This makes it easier to develop and test code quickly, as we can see the results immediately.\n",
    "\n",
    "**c. High Level Language:** Python is a high-level language, which means it provides a lot of built-in functionality and libraries, making it easy to perform common tasks without having to write everything from scratch.\n",
    "\n",
    "**d. Dynamic Typing:** Python is dynamically typed, which means we don't need to declare the type of a variable before using it. This makes it easier to write code and reduces the amount of boilerplate code.\n",
    "    \n",
    "**e. Open Source:** Python is an open-source language, which means that it is free to use, modify, and distribute.\n",
    "\n",
    "**f. Large Standard Library:** Python has a vast and comprehensive standard library that includes modules for various tasks, such as file I/O, networking, and data structures. This means we can find a module for most common tasks and don't need to write everything from scratch.\n",
    "    \n",
    "**g. Cross Platform:** Python can run on multiple platforms, including Windows, macOS, and Linux, making it a great choice for cross-platform development.\n",
    "\n",
    "**h. Extensive Community:** Python has an extensive community of developers and users, which means there are many resources available for learning and troubleshooting.\n",
    "\n",
    "**i. Rapid Development:** Python's syntax and nature make it well-suited for rapid development and prototyping. we can quickly write code and test it without having to worry about the underlying details.\n",
    "\n",
    "**j. Scripting:** Python is often used as a scripting language, which means we can use it to automate tasks and workflows. This makes it a great choice for data analysis, scientific computing, and web development.\n",
    "\n",
    "**k. Extensive Use Cases:** Python can be used for a wide range of applications, including:\n",
    "    \n",
    "* **Machine Learning**: Python has excellent support for machine learning libraries such as NumPy, SciPy, TensorFlow, and Keras, making it a popular choice for machine learning and data science tasks.\n",
    "    \n",
    "* **Web Development**: Python has excellent web development frameworks such as Django and Flask, making it a popular choice for web development.\n",
    "    \n",
    "* **Data Science**: Libraries like NumPy, pandas, and scikit-learn make it easy to work with data.\n",
    "\n",
    "* **Automation**: Python can be used to automate tasks, such as data entry, file management, and system administration.\n",
    "\n",
    "**n. Extensive Integration:** Python can easily integrate with other languages and tools, making it a versatile language for a wide range of applications.\n",
    "\n",
    "These features make Python a versatile and powerful language that is suitable for a wide range of applications, from quick scripting tasks to large-scale enterprise development projects.\n",
    "\n",
    "Python's unique combination of ease of use, flexibility, and extensive libraries make it a popular choice for many developers and organizations.\n"
   ]
  },
  {
   "cell_type": "markdown",
   "id": "abd2d084-d8ee-4500-8460-c01644dbc9ed",
   "metadata": {},
   "source": [
    "## **2. Describe the role of predefined keywords in Python and provide examples of how they are used in a program.**"
   ]
  },
  {
   "cell_type": "markdown",
   "id": "4bbfecf0-e61c-43ba-9480-9c08aeabe323",
   "metadata": {},
   "source": [
    "In Python, predefined keywords are special words that have a specific meaning in the language. They are used to define the structure and syntax of a program, and are used to declare variables, control the flow of execution, and perform other essential tasks.\n",
    "\n",
    "Here are the main roles of predefined keywords in Python:\n",
    "\n",
    "a. **Control Flow**: Keywords such as `if`, `elif`, `else`, `while`, `for`, `break`, `continue`, and `pass` are used to control the flow of execution in a program. They are used to make decisions, loop over sequences, and handle exceptions.\n",
    "\n",
    "b. **Variable Declaration**: Keywords such as `def` and `class` are used to declare variables, functions, and classes. They are used to define the structure and behavior of objects.\n",
    "\n",
    "c. **Data Type**: Keywords such as `int`, `float`, `str`, `list`, and `dict` are used to declare data types. They are used to specify the type of value that a variable can hold.\n",
    "\n",
    "d. **Scope**: Keywords such as `global` and `nonlocal` are used to specify the scope of variables. They are used to declare variables that are accessible from outside the current scope.\n",
    "\n",
    "e. **Exception Handling**: Keywords such as `try` and `except` are used to handle exceptions. They are used to catch and handle errors that occur during the execution of a program.\n",
    "\n",
    "f. **Lambda Functions**: Keywords such as `lambda` are used to define anonymous functions. They are used to create small, one-time-use functions that can be passed as arguments or returned as values.\n",
    "\n",
    "g. **Class Definition**: Keywords such as `class` and `self` are used to define classes. They are used to create objects that encapsulate data and behavior.\n",
    "\n",
    "Some examples of predefined keywords in Python include:\n",
    "\n",
    "* `and`: Used for logical operations.\n",
    "* `as`: Used for assigning a name to an object.\n",
    "* `assert`: Used for making assertions about the program's state.\n",
    "* `break`: Used for exiting a loop or block of code.\n",
    "* `class`: Used for defining a class.\n",
    "* `continue`: Used for skipping to the next iteration of a loop.\n",
    "* `def`: Used for defining a function.\n",
    "* `elif`: Used for specifying an alternative condition in an if statement.\n",
    "* `else`: Used for specifying an alternative block of code that should be executed if the condition in an if statement is false.\n",
    "* `except`: Used for specifying a block of code that should be executed when an exception occurs.\n",
    "* `finally`: Used for specifying a block of code that should be executed regardless of whether an exception occurs or not.\n",
    "* `for`: Used for iterating over a sequence of values.\n",
    "* `from`: Used for importing modules or objects from other modules.\n",
    "* `global`: Used for declaring a global variable that can be accessed from outside the current scope.\n",
    "* `if`: Used for making decisions based on conditions.\n",
    "* `in`: Used for checking if a value is present in a sequence or dictionary.\n",
    "* `is`: Used for checking if two objects are the same.\n",
    "* `lambda`: Used for defining anonymous functions.\n",
    "* `nonlocal`: Used for declaring a non-local variable that can be accessed from within nested functions.\n",
    "* `not`: Used for logical operations.\n",
    "* `or`: Used for logical operations.\n",
    "* `pass`: Used as a placeholder when no code needs to be executed in a particular block of code.\n",
    "* `raise`: Used for raising an exception.\n",
    "* `return`: Used for returning a value from a function or method.\n",
    "* `try`: Used for defining a block of code that may raise an exception.\n",
    "\n",
    "These keywords provide a foundation for building structured and efficient programs in Python."
   ]
  },
  {
   "cell_type": "markdown",
   "id": "d1d53c4a-ddab-4e2e-9567-f596fae240b7",
   "metadata": {},
   "source": [
    "#### **Use Cases:**"
   ]
  },
  {
   "cell_type": "markdown",
   "id": "a0579d20-3f95-4bd1-ac3a-1813abd9a081",
   "metadata": {},
   "source": [
    "* **Example of `and`, `or`, `not`, `True`, `False` keywords.**"
   ]
  },
  {
   "cell_type": "code",
   "execution_count": 8,
   "id": "0aca2258-38ff-4069-9199-306234cd52a9",
   "metadata": {},
   "outputs": [
    {
     "name": "stdout",
     "output_type": "stream",
     "text": [
      "True\n",
      "True\n",
      "True\n"
     ]
    }
   ],
   "source": [
    "print(True and True)\n",
    "print(True or False)\n",
    "print(not False)"
   ]
  },
  {
   "cell_type": "markdown",
   "id": "9ad3f1ec-6e4c-4ee8-8b67-a8f7b611703d",
   "metadata": {},
   "source": [
    "* **Example of a `break`, `continue` keywords and identifier.**"
   ]
  },
  {
   "cell_type": "code",
   "execution_count": 7,
   "id": "59a67edb-61c3-424c-9e68-9b2f1822a05f",
   "metadata": {},
   "outputs": [
    {
     "name": "stdout",
     "output_type": "stream",
     "text": [
      "1\n",
      "2\n",
      "3\n",
      "4\n",
      "5\n"
     ]
    }
   ],
   "source": [
    "for i in range(1, 11):\n",
    "    print(i)\n",
    "    if i < 5:  \n",
    "        continue\n",
    "    else:  \n",
    "        break\n"
   ]
  },
  {
   "cell_type": "markdown",
   "id": "796ce3ca-608a-40a0-a118-f1c74f080694",
   "metadata": {},
   "source": [
    "* **Example of `for`, `in`, `if`, `elif` and `else` keywords.**"
   ]
  },
  {
   "cell_type": "code",
   "execution_count": 10,
   "id": "0e55be5d-2098-4373-a0fb-3ad4f4fda7a1",
   "metadata": {},
   "outputs": [
    {
     "name": "stdout",
     "output_type": "stream",
     "text": [
      "One\n",
      "Two\n",
      "else block execute\n",
      "else block execute\n"
     ]
    }
   ],
   "source": [
    "for t in range(1, 5):\n",
    "    if t == 1:\n",
    "        print('One')\n",
    "    elif t == 2:\n",
    "        print('Two')\n",
    "    else:\n",
    "        print('else block execute')\n"
   ]
  },
  {
   "cell_type": "markdown",
   "id": "17f8f155-e3b8-49b3-8267-ab76e5b311cd",
   "metadata": {},
   "source": [
    "* **Example of `return` keyword.**"
   ]
  },
  {
   "cell_type": "code",
   "execution_count": 16,
   "id": "027d2c6a-6537-4610-bea5-235ac3f85196",
   "metadata": {},
   "outputs": [
    {
     "name": "stdout",
     "output_type": "stream",
     "text": [
      "5\n"
     ]
    }
   ],
   "source": [
    "# define a function\n",
    "def fun():\n",
    "    a = 5\n",
    "    return a\n",
    "t = fun()\n",
    "print(t)\n",
    "  \n"
   ]
  },
  {
   "cell_type": "markdown",
   "id": "38b17688-7932-4409-8077-b46f6ac3d8f9",
   "metadata": {},
   "source": [
    "* **Example of `def`, `if` and `else` keywords.**"
   ]
  },
  {
   "cell_type": "code",
   "execution_count": 11,
   "id": "16375be1-b6d3-4af4-9979-bb70901b3d4d",
   "metadata": {},
   "outputs": [
    {
     "name": "stdout",
     "output_type": "stream",
     "text": [
      "given number is even\n"
     ]
    }
   ],
   "source": [
    "def gfg():\n",
    "    i=20\n",
    "    if(i % 2 == 0):\n",
    "        print(\"given number is even\")\n",
    "    else:\n",
    "        print(\"given number is odd\")    \n",
    "    \n",
    "   \n",
    "gfg()\n"
   ]
  },
  {
   "cell_type": "markdown",
   "id": "37c80bfe-e206-43f5-b270-f216eae063ad",
   "metadata": {},
   "source": [
    "* **Example of a `lambda` keyword.**"
   ]
  },
  {
   "cell_type": "code",
   "execution_count": 12,
   "id": "2cae58dd-1668-41da-915c-66ae68b621f5",
   "metadata": {},
   "outputs": [
    {
     "name": "stdout",
     "output_type": "stream",
     "text": [
      "2\n",
      "3\n",
      "4\n",
      "5\n",
      "6\n"
     ]
    }
   ],
   "source": [
    "a = lambda b: b+1 \n",
    "for i in range(1, 6):\n",
    "    print(a(i))\n",
    "    \n"
   ]
  },
  {
   "cell_type": "markdown",
   "id": "28d6b3c6-680b-4911-a914-1f96a66060c0",
   "metadata": {},
   "source": [
    "* **Example of `import` keyword.**"
   ]
  },
  {
   "cell_type": "code",
   "execution_count": 14,
   "id": "2147b04f-6152-4394-9abb-0f8f90f4506d",
   "metadata": {},
   "outputs": [
    {
     "name": "stdout",
     "output_type": "stream",
     "text": [
      "factorial of 5 is : 120\n"
     ]
    }
   ],
   "source": [
    "import math\n",
    "print(\"factorial of 5 is :\", math.factorial(5))\n"
   ]
  },
  {
   "cell_type": "markdown",
   "id": "12952b54-4f2d-4e9e-b996-3d34745f7083",
   "metadata": {},
   "source": [
    "## **3. Compare and contrast mutable and immutable objects in Python with examples.**"
   ]
  },
  {
   "cell_type": "markdown",
   "id": "44ef2bab-a7cf-4b74-bb3e-999b3261e381",
   "metadata": {},
   "source": [
    "In Python, objects can be either mutable or immutable. This distinction is crucial because it affects how objects can be changed and how they behave in certain situations.\n",
    "\n",
    "### **I. Mutable Objects:**\n",
    "\n",
    "Mutable objects are objects that can be changed after they are created. In Python, mutable objects are objects that can be modified by changing their attributes or elements. Here are some examples of mutable objects in Python:\n",
    "\n",
    "\n",
    "* List (`[]`)\n",
    "* Dictionary (`{}`)\n",
    "* Set (`set()`)\n",
    "* User-defined objects (e.g., instances of a class)\n",
    "\n",
    "\n",
    "**a. Lists:** A list is a collection of items that can be changed. We can `add`, `remove` or `modify` elements in a list.\n"
   ]
  },
  {
   "cell_type": "code",
   "execution_count": 32,
   "id": "0fac777c-e6a0-4421-bd06-38973af44723",
   "metadata": {},
   "outputs": [
    {
     "name": "stdout",
     "output_type": "stream",
     "text": [
      "[1, 2, 3, 4]\n"
     ]
    }
   ],
   "source": [
    "list = [1, 2, 3]\n",
    "list.append(4)\n",
    "print(list)  "
   ]
  },
  {
   "cell_type": "markdown",
   "id": "e7dcf109-5ca5-4a40-9d58-06240afef6bb",
   "metadata": {
    "tags": []
   },
   "source": [
    "**b. Dictionaries:** A dictionary is a collection of key-value pairs that can be changed. We can `add` or `modify` key-value pairs in a dictionary."
   ]
  },
  {
   "cell_type": "code",
   "execution_count": 31,
   "id": "03aaaa94-793f-4f2a-b757-c14aaf7e3a9e",
   "metadata": {},
   "outputs": [
    {
     "name": "stdout",
     "output_type": "stream",
     "text": [
      "{'a': 1, 'b': 2, 'c': 3}\n"
     ]
    }
   ],
   "source": [
    "dict = {'a': 1, 'b': 2}\n",
    "dict['c'] = 3\n",
    "print(dict)  "
   ]
  },
  {
   "cell_type": "markdown",
   "id": "a5c0e3ae-0d8b-40d7-a3aa-c61275901288",
   "metadata": {
    "tags": []
   },
   "source": [
    "**c. Sets:** A set is a collection of unique items that can be changed. We can `add` or `remove` items from a set."
   ]
  },
  {
   "cell_type": "code",
   "execution_count": 30,
   "id": "2c90152d-1174-4a6c-be91-294bf8873831",
   "metadata": {},
   "outputs": [
    {
     "name": "stdout",
     "output_type": "stream",
     "text": [
      "{1, 2, 3, 4}\n"
     ]
    }
   ],
   "source": [
    "set = {1, 2, 3}\n",
    "set.add(4)\n",
    "print(set)  "
   ]
  },
  {
   "cell_type": "markdown",
   "id": "1fc58dcc-5048-40e6-8406-44dae1a6c21a",
   "metadata": {},
   "source": [
    "**Characteristics of Mutable Objects:**\n",
    "\n",
    "* Can be modified in place.\n",
    "\n",
    "* Can be changed after creation.\n",
    "\n",
    "* Can be extended or shrunk dynamically.\n",
    "\n",
    "* Can be modified using indexing or slicing.\n"
   ]
  },
  {
   "cell_type": "markdown",
   "id": "91965c0f-e18b-4aa5-955e-cdecd8fc514f",
   "metadata": {},
   "source": [
    "### **II. Immutable Objects:**\n",
    "\n",
    "Immutable objects are objects that cannot be changed after they are created. In Python, immutable objects are objects that cannot be modified by changing their attributes or elements. Here are some examples of immutable objects in Python:\n",
    "\n",
    "* Integers(`int`)\n",
    "* Floats(`float`)\n",
    "* Strings(`str`)\n",
    "* Tuples(`tuple`)\n",
    "* Boolean(`bool`)\n",
    "\n",
    "\n",
    "**a. Strings:** A string is a sequence of characters that cannot be changed. Once a string is created, its contents cannot be modified.\n"
   ]
  },
  {
   "cell_type": "code",
   "execution_count": null,
   "id": "bf890911-e029-4593-9fec-6dc4d0b435ed",
   "metadata": {},
   "outputs": [],
   "source": [
    "string = 'hello'\n",
    "string[0] = 'H'  # This will raise error"
   ]
  },
  {
   "cell_type": "markdown",
   "id": "3e5bd3bf-6e0b-4b76-9769-2262ba2ff180",
   "metadata": {},
   "source": [
    "**b. Integers:** An integer is a numeric value that cannot be changed once it is created."
   ]
  },
  {
   "cell_type": "code",
   "execution_count": 16,
   "id": "d734b1a9-7287-4753-8e81-d0943c9f9f53",
   "metadata": {
    "tags": []
   },
   "outputs": [],
   "source": [
    "int = 5\n",
    "int = 10  # This will assign a new value to int, but it won't change the original value"
   ]
  },
  {
   "cell_type": "markdown",
   "id": "04b39171-b923-4dd4-986b-e425b217d75c",
   "metadata": {},
   "source": [
    "**c. Tuples:** A tuple is a collection of items that cannot be changed once it is created. Unlike lists, tuples cannot be modified."
   ]
  },
  {
   "cell_type": "code",
   "execution_count": null,
   "id": "008f9dff-e7f5-47f5-bc3b-f313cf21906f",
   "metadata": {},
   "outputs": [],
   "source": [
    "tuple = (1, 2, 3)\n",
    "tuple[0] = 'a'  # This will raise error"
   ]
  },
  {
   "cell_type": "markdown",
   "id": "3262048a-6d85-40e8-8128-1a1681fd7c27",
   "metadata": {},
   "source": [
    "**Characteristics of Immutable Objects:**\n",
    "\n",
    "* Cannot be modified in place\n",
    "\n",
    "* Cannot be changed after creation\n",
    "\n",
    "* Have a fixed size and shape\n",
    "\n",
    "* Cannot be modified using indexing or slicing\n"
   ]
  },
  {
   "cell_type": "markdown",
   "id": "321bc08b-c4b2-4878-9ced-5617108c71de",
   "metadata": {},
   "source": [
    "#### **Key Differences:**\n",
    "\n",
    "Some key differences between mutable and immutable objects:\n",
    "\n",
    "\n",
    "**a. Modifiability:** Mutable objects can be modified after they are created, while immutable objects cannot be changed once they are created.\n",
    "\n",
    "**b. Equality:** Immutable objects can be compared for equality using the `==` operator, while mutable objects require a deep copy to compare their contents.\n",
    "\n",
    "**c. Hashing:** Immutable objects can be hashed using the `hash()` function, while mutable objects require a deep copy to hash their contents.\n",
    "\n",
    "**d. Pickling:** Immutable objects can be pickled (serialized) and unpickled without issues, while mutable objects may not be pickled correctly due to changes in their contents during the serialization process.\n",
    "\n",
    "**e. Memory Usage:** Immutable objects typically occupy less memory than mutable objects, since they do not need to store additional information about their contents.\n",
    "\n",
    "**f. Thread Safety:** Immutable objects are generally thread-safe, as they cannot be modified concurrently by multiple threads. Mutable objects, on the other hand, may require additional synchronization mechanisms to ensure thread safety.\n",
    "\n",
    "**g. Debugging:** Immutable objects can make it easier to debug code, as changes to their contents can be easily tracked and understood.\n",
    "\n",
    "**h. Code Readability:** Immutable objects can make code more readable, as they provide a clear and consistent interface for working with data.\n",
    "\n",
    "In summary, while both mutable and immutable objects have their own use cases and advantages, immutable objects are generally preferred in Python programming due to their thread safety, simplicity, and ease of debugging."
   ]
  },
  {
   "cell_type": "markdown",
   "id": "44e0e161-40c7-4e32-8c12-1de0a89946e0",
   "metadata": {},
   "source": [
    "## **4. Discuss the different types of operators in Python and provide examples of how they are used.**"
   ]
  },
  {
   "cell_type": "markdown",
   "id": "b2f9b0cc-2280-4001-a416-4ca29b8f040a",
   "metadata": {},
   "source": [
    "Python has several types of operators, which are used to perform operations on variables and values. Here are the different types of operators in Python:\n",
    "\n",
    "### **I. Arithmetic Operators:**\n",
    "\n",
    "Arithmetic operators are used to perform mathematical operations on numbers.\n",
    "\n",
    "\n",
    "**a. Addition:** `a + b` returns the sum of a and b.\n",
    "\n",
    "**b. Subtraction:** `a - b` returns the difference of a and b.\n",
    "\n",
    "**c. Multiplication:** `a * b` returns the product of a and b.\n",
    "\n",
    "**d. Division:** `a / b` returns the quotient of a and b.\n",
    "\n",
    "**e. Floor Division:** `a // b` returns quotient's integral form.\n",
    "\n",
    "**f. Modulus:** `a % b` returns the remainder of a divided by b.\n",
    "\n",
    "**g. Exponentiation:** `a ** b` returns the result of raising a to the power of b.\n",
    "\n"
   ]
  },
  {
   "cell_type": "code",
   "execution_count": 26,
   "id": "0dd415a4-59c4-4781-a13e-000c66cc2d64",
   "metadata": {},
   "outputs": [
    {
     "name": "stdout",
     "output_type": "stream",
     "text": [
      "Addition = 8\n",
      "Subtraction = 2\n",
      "Multiplication =  15\n",
      "Division = 1.6666666666666667\n",
      "Floor Division = 1\n",
      "Modulus = 2\n",
      "Exponentiation = 125\n"
     ]
    }
   ],
   "source": [
    "a = 5\n",
    "b = 3\n",
    "print(\"Addition =\", a + b)  \n",
    "print(\"Subtraction =\", a - b)  \n",
    "print(\"Multiplication = \", a * b)  \n",
    "print(\"Division =\", a / b) \n",
    "print(\"Floor Division =\", a // b)\n",
    "print(\"Modulus =\", a % b)  \n",
    "print(\"Exponentiation =\" ,a ** b)  "
   ]
  },
  {
   "cell_type": "markdown",
   "id": "07ddd65f-9268-43d0-9f0c-66cdf9b996bb",
   "metadata": {},
   "source": [
    "### **II. Comparison Operators:**\n",
    "\n",
    "Comparison operators are used to compare values and determine whether they are equal, not equal, greater, less than, etc.\n",
    "\n",
    "**a. == (Equal):** `a == b` returns True if a is equal to b, otherwise returns False.\n",
    "\n",
    "**b. != (Not equal):** `a != b` returns True if a is not equal to b, otherwise returns False.\n",
    "\n",
    "**c. < (Less than):** `a < b` returns True if a is less than b, otherwise returns False.\n",
    "\n",
    "**d. <= (Less than or equal to):** `a <= b` returns True if a is less than or equal to b, otherwise returns False.\n",
    "\n",
    "**e. > (Greater than):** `a > b` returns True if a is greater than b, otherwise returns False.\n",
    "\n",
    "**f. >= (Greater than or equal to):** `a >= b` returns True if a is greater than or equal to b, otherwise returns False.\n"
   ]
  },
  {
   "cell_type": "code",
   "execution_count": 25,
   "id": "79fbfbf1-2961-48ae-bc2e-88c3d3868979",
   "metadata": {},
   "outputs": [
    {
     "name": "stdout",
     "output_type": "stream",
     "text": [
      "Equal = False\n",
      "Not equal = True\n",
      "Less than = False\n",
      "Less than or equal to = False\n",
      "Greater than = True\n",
      "Greater than or equal to = True\n"
     ]
    }
   ],
   "source": [
    "a = 5\n",
    "b = 3\n",
    "print(\"Equal =\", a == b) \n",
    "print(\"Not equal =\", a != b) \n",
    "print(\"Less than =\", a < b)  \n",
    "print(\"Less than or equal to =\", a <= b) \n",
    "print(\"Greater than =\", a > b)  \n",
    "print(\"Greater than or equal to =\", a >= b)"
   ]
  },
  {
   "cell_type": "markdown",
   "id": "91dcd271-1c3f-4537-969c-c79819b3f8e8",
   "metadata": {},
   "source": [
    "### **III. Logical Operators:**\n",
    "\n",
    "Logical operators are used to combine boolean expressions and evaluate their truthiness.\n",
    "\n",
    "**a. and:** Returns the result of combining two boolean expressions using a logical `AND` operation.\n",
    "\n",
    "**b. or:** Returns the result of combining two boolean expressions using a logical `OR` operation.\n",
    "\n",
    "**c. not:** Returns the opposite of a boolean expression.\n"
   ]
  },
  {
   "cell_type": "code",
   "execution_count": 27,
   "id": "5ca99130-659c-4161-82a0-209a4811078e",
   "metadata": {},
   "outputs": [
    {
     "name": "stdout",
     "output_type": "stream",
     "text": [
      "And = False\n",
      "Or = True\n",
      "Not = False\n"
     ]
    }
   ],
   "source": [
    "x = True\n",
    "y = False\n",
    "print(\"And =\", x and y)\n",
    "print(\"Or =\", x or y) \n",
    "print(\"Not =\", not x)  "
   ]
  },
  {
   "cell_type": "markdown",
   "id": "14e6246c-4501-4095-bf6b-c03fce2bd0b1",
   "metadata": {},
   "source": [
    "### **IV. Assignment Operators:**\n",
    "\n",
    "Assignment operators are used to assign a value to a variable.\n",
    "\n",
    "**a. `/=`** : Assigns the result of dividing two values to a variable."
   ]
  },
  {
   "cell_type": "code",
   "execution_count": 37,
   "id": "de72f63e-6549-4247-83b1-824783a1d6b3",
   "metadata": {},
   "outputs": [
    {
     "name": "stdout",
     "output_type": "stream",
     "text": [
      "1.6666666666666667\n"
     ]
    }
   ],
   "source": [
    "x = 5\n",
    "x /= 3\n",
    "print(x)"
   ]
  },
  {
   "cell_type": "markdown",
   "id": "698a63be-9d48-4bfe-a2fb-1343e498628e",
   "metadata": {},
   "source": [
    "**b. `%=`** : Assigns the remainder of dividing two values to a variable."
   ]
  },
  {
   "cell_type": "code",
   "execution_count": 33,
   "id": "055aea7c-ba01-4773-8ce8-ce1b434ec41b",
   "metadata": {},
   "outputs": [
    {
     "name": "stdout",
     "output_type": "stream",
     "text": [
      "2\n"
     ]
    }
   ],
   "source": [
    "x = 5\n",
    "x %= 3\n",
    "print(x)"
   ]
  },
  {
   "cell_type": "markdown",
   "id": "56f09dcb-5ccb-454d-867e-25588bb66575",
   "metadata": {},
   "source": [
    "**c. `*=`** : Assigns the product of two values to a variable.\n"
   ]
  },
  {
   "cell_type": "code",
   "execution_count": 32,
   "id": "70761d04-70b0-45e9-a6e8-afc6fab596b7",
   "metadata": {},
   "outputs": [
    {
     "name": "stdout",
     "output_type": "stream",
     "text": [
      "15\n"
     ]
    }
   ],
   "source": [
    "x = 5\n",
    "x *= 3\n",
    "print(x)"
   ]
  },
  {
   "cell_type": "markdown",
   "id": "66c083b2-ed0b-456e-89e5-ea5f888987ac",
   "metadata": {},
   "source": [
    "**d. `+=`** : Assigns the sum of two values to a variable."
   ]
  },
  {
   "cell_type": "code",
   "execution_count": 35,
   "id": "93063374-4e96-4e5f-a297-1b212d250c99",
   "metadata": {},
   "outputs": [
    {
     "name": "stdout",
     "output_type": "stream",
     "text": [
      "8\n"
     ]
    }
   ],
   "source": [
    "x = 5\n",
    "x += 3\n",
    "print(x)"
   ]
  },
  {
   "cell_type": "markdown",
   "id": "d094874f-23ec-4354-9b3f-2924037c9822",
   "metadata": {},
   "source": [
    "**e. `-=`** : Assigns the difference of two values to a variable."
   ]
  },
  {
   "cell_type": "code",
   "execution_count": 28,
   "id": "4f65cd42-17f9-4c89-b51d-d472539767fb",
   "metadata": {},
   "outputs": [
    {
     "name": "stdout",
     "output_type": "stream",
     "text": [
      "2\n"
     ]
    }
   ],
   "source": [
    "x = 5\n",
    "x -= 3\n",
    "print(x)"
   ]
  },
  {
   "cell_type": "markdown",
   "id": "b5343f52-d714-4b21-9532-a7a22630c8f6",
   "metadata": {},
   "source": [
    "### **V. Bitwise Operators:**\n",
    "\n",
    "Bitwise operators are used to perform operations on binary numbers.\n",
    "\n",
    "**a. `&`** (Bitwise `AND`): Performs a bitwise `AND` operation on two binary numbers.\n",
    "\n",
    "**b. `|`** (Bitwise `OR`): Performs a bitwise `OR` operation on two binary numbers.\n",
    "\n",
    "**c. `^`** (Bitwise `XOR`): Performs a bitwise `XOR` operation on two binary numbers.\n",
    "\n",
    "**d. `~`** (Bitwise `NOT`): Inverts all the bits in a binary number.\n",
    "\n",
    "**e. `<<`** (Left Shift): Shifts the bits of a binary number to the left.\n",
    "\n",
    "**f. `>>`** (Right Shift): Shifts the bits of a binary number to the right.\n"
   ]
  },
  {
   "cell_type": "code",
   "execution_count": 44,
   "id": "0e7fc99a-d469-4904-a4a2-c0fa8349df86",
   "metadata": {},
   "outputs": [
    {
     "name": "stdout",
     "output_type": "stream",
     "text": [
      "AND = 1\n",
      "OR = 7\n",
      "XOR = 6\n",
      "NOT = -6\n",
      "Right Shift = 10\n",
      "Left Shift = 2\n"
     ]
    }
   ],
   "source": [
    "x = 5\n",
    "y = 3\n",
    "print(\"AND =\", x & y)  \n",
    "print(\"OR =\", x | y)  \n",
    "print(\"XOR =\", x ^ y)  \n",
    "print(\"NOT =\", ~x)  \n",
    "print(\"Right Shift =\", x << 1)  \n",
    "print(\"Left Shift =\", x >> 1)  "
   ]
  },
  {
   "cell_type": "markdown",
   "id": "1632e6ae-c1e6-4cf4-80ca-0b1e0fc36ff7",
   "metadata": {},
   "source": [
    "### **VI. Membership Operators:**\n",
    "\n",
    "Membership operators are used to check if a value is present in a sequence or container.\n",
    "\n",
    "**a. `in`:** Returns the result of checking if a value is present in a sequence or container.\n",
    "\n",
    "**b. `not in`:** Returns the opposite of checking if a value is present in a sequence or container.\n"
   ]
  },
  {
   "cell_type": "code",
   "execution_count": 45,
   "id": "fdab1c9a-0ff3-436f-bf57-12f9f4514f9b",
   "metadata": {},
   "outputs": [
    {
     "name": "stdout",
     "output_type": "stream",
     "text": [
      "True\n",
      "True\n"
     ]
    }
   ],
   "source": [
    "list = [1, 2, 3]\n",
    "print(2 in list)  \n",
    "print(4 not in list)  "
   ]
  },
  {
   "cell_type": "markdown",
   "id": "77e8ee3e-42b4-4640-9587-47749f6f8217",
   "metadata": {},
   "source": [
    "### **VII. Identity Operators:**\n",
    "\n",
    "Identity operators are used to check if two values are identical or not.\n",
    "\n",
    "**a. `is`:** Returns the result of checking if two values are identical.\n",
    "    \n",
    "**b. `is not`:** Returns the opposite of checking if two values are identical.\n"
   ]
  },
  {
   "cell_type": "code",
   "execution_count": 46,
   "id": "1ca72ac1-9c3f-4a95-a6f6-1c1ae53e5868",
   "metadata": {},
   "outputs": [
    {
     "name": "stdout",
     "output_type": "stream",
     "text": [
      "False\n",
      "True\n"
     ]
    }
   ],
   "source": [
    "x = [1, 2, 3]\n",
    "y = [1, 2, 3]\n",
    "print(x is y)  \n",
    "print(x is not y)  "
   ]
  },
  {
   "cell_type": "markdown",
   "id": "df54232a-1393-4ede-8d06-7d12e35d625e",
   "metadata": {},
   "source": [
    "## **5. Explain the concept of type casting in Python with examples.**"
   ]
  },
  {
   "cell_type": "markdown",
   "id": "f96564c3-ff65-4a11-b05a-289e25f1db70",
   "metadata": {},
   "source": [
    "Type casting in Python is the process of converting a variable data type from one data type to another. This can be useful when we need to work with different data types, such as when we need to convert a string to an integer.\n",
    "\n",
    "### **I. Implicit Type Casting**\n",
    "\n",
    "Python automatically performs implicit type casting when it encounters an operation that requires a specific data type. "
   ]
  },
  {
   "cell_type": "code",
   "execution_count": 1,
   "id": "2e77f0b3-c148-4fe2-8de8-bf8be4ad6904",
   "metadata": {},
   "outputs": [
    {
     "name": "stdout",
     "output_type": "stream",
     "text": [
      "8.5\n"
     ]
    }
   ],
   "source": [
    "a = 5  # integer\n",
    "b = 3.5  # float\n",
    "\n",
    "result = a + b  # implicit type casting\n",
    "print(result)  "
   ]
  },
  {
   "cell_type": "markdown",
   "id": "73a99719-234f-4962-b90f-c1a6ef654f03",
   "metadata": {},
   "source": [
    "In this example, Python automatically converts the integer \"`a`\" to a float to perform the addition operation with the float \"`b`\"."
   ]
  },
  {
   "cell_type": "markdown",
   "id": "717e1fbc-68c3-462e-8df1-3d3ac95ac398",
   "metadata": {},
   "source": [
    "### **II. Explicit Type Casting**\n",
    "\n",
    "It can also be performed in explicit type casting using built-in functions such as `int()`, `float()`, `str()`, etc."
   ]
  },
  {
   "cell_type": "code",
   "execution_count": 2,
   "id": "0951a31e-a8cd-443a-ad4a-766699b9974d",
   "metadata": {},
   "outputs": [
    {
     "name": "stdout",
     "output_type": "stream",
     "text": [
      "5\n",
      "123\n"
     ]
    }
   ],
   "source": [
    "a = 5.5  # float\n",
    "b = int(a)  # explicit type casting\n",
    "print(b) \n",
    "\n",
    "c = \"123\"  # string\n",
    "d = int(c)  # explicit type casting\n",
    "print(d) "
   ]
  },
  {
   "cell_type": "markdown",
   "id": "1c518bc2-b040-42cc-af56-1823e08db2ea",
   "metadata": {},
   "source": [
    "In this example, the **`int()`** function is used to explicitly convert the float \"**`a`**\" to an integer and the string \"**`c`**\" to an integer."
   ]
  },
  {
   "cell_type": "markdown",
   "id": "4836505c-4c4e-4fcd-98b2-c44fe172f877",
   "metadata": {},
   "source": [
    "#### **Type Casting Functions:**\n",
    "\n",
    "**a. int()**: converts a value to integer\n",
    "\n",
    "**b. float()**: converts a value to float\n",
    "\n",
    "**c. str()**: converts a value to string\n",
    "\n",
    "**d. bool()**: converts a value to boolean(`True` or `False`)\n",
    "\n",
    "**e. complex()**: converts a value to complex number\n",
    "\n",
    "**f. list()**: converts a value to list\n",
    "\n",
    "**g. tuple()**: converts a value to tuple\n",
    "\n",
    "**h. dict()**: converts a value to dictionary\n"
   ]
  },
  {
   "cell_type": "markdown",
   "id": "aa574b85-4cfc-4bcf-b103-ee68c031d7d7",
   "metadata": {},
   "source": [
    "### **Examples of Type Casting:**"
   ]
  },
  {
   "cell_type": "markdown",
   "id": "af6bfea6-1050-4c0b-b164-d389651a8e0f",
   "metadata": {},
   "source": [
    "#### **i. String to an integer:**\n",
    "\n",
    "Converting string to integer datatype in Python with `int()` function."
   ]
  },
  {
   "cell_type": "code",
   "execution_count": 4,
   "id": "f549ea4c-e8cb-4705-a2b6-67fb094243c7",
   "metadata": {},
   "outputs": [
    {
     "name": "stdout",
     "output_type": "stream",
     "text": [
      "123\n",
      "<class 'int'>\n"
     ]
    }
   ],
   "source": [
    "s = \"123\"\n",
    "i = int(s)\n",
    "print(i)\n",
    "print(type(i))"
   ]
  },
  {
   "cell_type": "markdown",
   "id": "dad3dd44-7f14-47a3-9d80-cd88261293aa",
   "metadata": {},
   "source": [
    "#### **ii. String to a boolean**\n",
    "Converting string to boolean datatype in Python with `bool()` function."
   ]
  },
  {
   "cell_type": "code",
   "execution_count": 7,
   "id": "a4d7c155-ffa1-4dc4-9788-e553f040dc38",
   "metadata": {},
   "outputs": [
    {
     "name": "stdout",
     "output_type": "stream",
     "text": [
      "True\n",
      "<class 'bool'>\n"
     ]
    }
   ],
   "source": [
    "s = \"True\"\n",
    "b = bool(s)\n",
    "print(b)\n",
    "print(type(b))"
   ]
  },
  {
   "cell_type": "markdown",
   "id": "1514a904-18cc-4238-b7c1-4cbff4c1118d",
   "metadata": {},
   "source": [
    "#### **iii. Boolean to a string**\n",
    "Converting boolean to string datatype in Python with `str()` function."
   ]
  },
  {
   "cell_type": "code",
   "execution_count": 9,
   "id": "bc16c053-d483-4cd9-b225-2795f4582844",
   "metadata": {},
   "outputs": [
    {
     "name": "stdout",
     "output_type": "stream",
     "text": [
      "True\n",
      "<class 'str'>\n"
     ]
    }
   ],
   "source": [
    "b = True\n",
    "s = str(b)\n",
    "print(s)\n",
    "print(type(s))"
   ]
  },
  {
   "cell_type": "markdown",
   "id": "58d54039-7469-4c91-9f1a-5520216365dc",
   "metadata": {},
   "source": [
    "#### **iv. Integer to a string**\n",
    "Converting integer to string datatype in Python with `str()` function."
   ]
  },
  {
   "cell_type": "code",
   "execution_count": 10,
   "id": "b659de90-31e7-4e3e-814b-90c9f5528240",
   "metadata": {},
   "outputs": [
    {
     "name": "stdout",
     "output_type": "stream",
     "text": [
      "123\n",
      "<class 'str'>\n"
     ]
    }
   ],
   "source": [
    "i = 123\n",
    "s = str(i)\n",
    "print(s)\n",
    "print(type(s))"
   ]
  },
  {
   "cell_type": "markdown",
   "id": "0ef5a967-ad25-4c7e-9f00-fe445c04b3e8",
   "metadata": {},
   "source": [
    "#### **v. Float to a string**\n",
    "Converting float to string datatype in Python with `str()` function."
   ]
  },
  {
   "cell_type": "code",
   "execution_count": 11,
   "id": "c8559523-32d5-47a8-9a51-20cc916bffbb",
   "metadata": {},
   "outputs": [
    {
     "name": "stdout",
     "output_type": "stream",
     "text": [
      "123.45\n",
      "<class 'str'>\n"
     ]
    }
   ],
   "source": [
    "f = 123.45\n",
    "s = str(f)\n",
    "print(s)\n",
    "print(type(s))"
   ]
  },
  {
   "cell_type": "markdown",
   "id": "72e4216e-1797-4f5c-ade1-66b35496b04d",
   "metadata": {},
   "source": [
    "#### **vi. List to Tuple:**\n",
    "Converting list to tuple datatype in Python with `tuple()` function."
   ]
  },
  {
   "cell_type": "code",
   "execution_count": 1,
   "id": "8be8ade1-311e-4291-864b-9d896d2e4328",
   "metadata": {},
   "outputs": [
    {
     "name": "stdout",
     "output_type": "stream",
     "text": [
      "(1, 2, 3)\n",
      "<class 'tuple'>\n"
     ]
    }
   ],
   "source": [
    "list = [1, 2, 3]\n",
    "tuple = tuple(list)\n",
    "print(tuple)\n",
    "print(type(tuple))"
   ]
  },
  {
   "cell_type": "markdown",
   "id": "6fc2aefe-260a-42e1-9f1f-a13f9e024f36",
   "metadata": {},
   "source": [
    "#### **vii. Complex number to a string**\n",
    "Converting complex number to string datatype in Python with `str()` function."
   ]
  },
  {
   "cell_type": "code",
   "execution_count": 13,
   "id": "eacc2456-9426-4a9d-bc70-9dc159730d07",
   "metadata": {},
   "outputs": [
    {
     "name": "stdout",
     "output_type": "stream",
     "text": [
      "(1+2j)\n",
      "<class 'str'>\n"
     ]
    }
   ],
   "source": [
    "c = complex(1, 2)\n",
    "s = str(c)\n",
    "print(s)\n",
    "print(type(s))"
   ]
  },
  {
   "cell_type": "markdown",
   "id": "de027b52-80d6-40da-ad90-e2af0e107b6d",
   "metadata": {},
   "source": [
    " #### **viii. Dictionary to String:**\n",
    " Converting dictionary to string datatype in Python with `str()` function."
   ]
  },
  {
   "cell_type": "code",
   "execution_count": 6,
   "id": "499d5e28-30f7-47e8-ace6-253026bd1fce",
   "metadata": {},
   "outputs": [
    {
     "name": "stdout",
     "output_type": "stream",
     "text": [
      "{'a': 1, 'b': 2}\n",
      "<class 'str'>\n"
     ]
    }
   ],
   "source": [
    "x = {\"a\": 1, \"b\": 2}\n",
    "y = str(x)\n",
    "print(y)\n",
    "print(type(y))"
   ]
  },
  {
   "cell_type": "markdown",
   "id": "03bfb146-0a92-418a-a585-a9348b9b4ea5",
   "metadata": {},
   "source": [
    "## **6. How do conditional statements work in Python? Illustrate with examples.**"
   ]
  },
  {
   "cell_type": "markdown",
   "id": "2626798d-6f3e-406b-8c48-6c57a1ff2f40",
   "metadata": {},
   "source": [
    "In Python, conditional statements also known as control flow statements, are used to execute different blocks of code based on certain conditions. They allows to make decisions and take different actions depending on the outcome of a condition. There are several types of conditional statements in Python:\n",
    "\n",
    "**a. If statement:** This is the most basic type of conditional statement. It checks if a condition is true or false, and executes a block of code if the condition is true.\n"
   ]
  },
  {
   "cell_type": "code",
   "execution_count": 4,
   "id": "a093c8ab-031d-41fc-b370-1a83ce7d3491",
   "metadata": {},
   "outputs": [],
   "source": [
    "x = 5\n",
    "if x > 10:\n",
    "    print(\"x is greater than 10\")"
   ]
  },
  {
   "cell_type": "markdown",
   "id": "485e5ed4-b1db-4f46-bca1-8ffb5426f069",
   "metadata": {},
   "source": [
    "In this example, the code inside the **`if`** statement will not be executed because the condition **`x > 10`** is false."
   ]
  },
  {
   "cell_type": "markdown",
   "id": "9b963311-d0ed-4cfd-9f64-f2194a6a7920",
   "metadata": {},
   "source": [
    "**b. If-else statement:** This type of conditional statement allows to execute a different block of code if the condition is false."
   ]
  },
  {
   "cell_type": "code",
   "execution_count": 5,
   "id": "a0e6704c-eb81-4c4e-8244-68ac725cce9e",
   "metadata": {},
   "outputs": [
    {
     "name": "stdout",
     "output_type": "stream",
     "text": [
      "x is less than or equal to 10\n"
     ]
    }
   ],
   "source": [
    "x = 5\n",
    "if x > 10:\n",
    "    print(\"x is greater than 10\")\n",
    "else:\n",
    "    print(\"x is less than or equal to 10\")"
   ]
  },
  {
   "cell_type": "markdown",
   "id": "e34b975f-e253-494b-88fd-649618b07f9b",
   "metadata": {},
   "source": [
    "In this example, the code inside the **`else`** block will be executed because the condition **`x > 10`** is false."
   ]
  },
  {
   "cell_type": "markdown",
   "id": "8ce8eccb-51db-4504-957d-d1dbd87b740c",
   "metadata": {},
   "source": [
    "**c. Elif statement:** This type of conditional statement allows to add more conditions to check if the original condition is false."
   ]
  },
  {
   "cell_type": "code",
   "execution_count": 17,
   "id": "afe02ed9-f14c-41a2-b6cd-59ef9aab2f00",
   "metadata": {},
   "outputs": [
    {
     "name": "stdout",
     "output_type": "stream",
     "text": [
      "x is equal to 5\n"
     ]
    }
   ],
   "source": [
    "x = 5\n",
    "if x > 10:\n",
    "    print(\"x is greater than 10\")\n",
    "elif x == 5:\n",
    "    print(\"x is equal to 5\")\n",
    "else:\n",
    "    print(\"x is less than 5\")"
   ]
  },
  {
   "cell_type": "markdown",
   "id": "d2e35367-3d0b-43a3-b06d-14927caa644b",
   "metadata": {},
   "source": [
    "In this example, the code inside the **`elif`** block will be executed because the condition **`x > 10`** is false, and the condition **`x == 5`** is true."
   ]
  },
  {
   "cell_type": "markdown",
   "id": "138dfeec-7939-423e-94a0-0a915625f2c4",
   "metadata": {},
   "source": [
    "**d. Nested if statements:** We can also use nested if statements to check multiple conditions."
   ]
  },
  {
   "cell_type": "code",
   "execution_count": 10,
   "id": "55070b5f-b700-4fea-952d-a7371f81d551",
   "metadata": {},
   "outputs": [],
   "source": [
    "x = 5\n",
    "y = 3\n",
    "if x > 10:\n",
    "    if y > 5:\n",
    "        print(\"x is greater than 10 and y is greater than 5\")"
   ]
  },
  {
   "cell_type": "markdown",
   "id": "12f1b4a2-7045-452f-a44d-72a21ca136a0",
   "metadata": {},
   "source": [
    "In this example, the code inside the nested **if** statement will not be executed because the condition **`x > 10`** is false."
   ]
  },
  {
   "cell_type": "markdown",
   "id": "c30025a6-3506-4e6b-bc03-267156cb996d",
   "metadata": {},
   "source": [
    "**e. Conditional expressions:** In Python, we can also use conditional expressions (also known as ternary operators) to simplify simple conditional statements."
   ]
  },
  {
   "cell_type": "code",
   "execution_count": 11,
   "id": "99e55ef7-68a4-489c-9f23-c01fe222be34",
   "metadata": {},
   "outputs": [
    {
     "name": "stdout",
     "output_type": "stream",
     "text": [
      "x is less than or equal to 10\n"
     ]
    }
   ],
   "source": [
    "x = 5\n",
    "result = \"x is greater than 10\" if x > 10 else \"x is less than or equal to 10\"\n",
    "print(result)"
   ]
  },
  {
   "cell_type": "markdown",
   "id": "0fb72f38-3c67-4ba6-a409-9d8fb56beee3",
   "metadata": {},
   "source": [
    "In this example, the code will print \"x is less than or equal to 10\" because the condition **x > 10** is false.\n",
    "\n",
    "These are the types of conditional statements and their working in Python. These conditional statements are used to make complex logic and decision making flows in the code."
   ]
  },
  {
   "cell_type": "markdown",
   "id": "e6fd9d9a-4356-4f1f-ad8b-669ba61ca574",
   "metadata": {},
   "source": [
    "## **7.Describe the different types of loops in Python and their use cases with examples.**"
   ]
  },
  {
   "cell_type": "markdown",
   "id": "8eb072a7-1c1c-4f4f-baee-173a4afd8771",
   "metadata": {},
   "source": [
    "In Python, there are several types of loops that can be used to execute a block of code repeatedly. Here are the different types of loops and their use cases:\n",
    "\n",
    "**a. For Loop:** A for loop is used to iterate over a sequence (such as a `list`, `tuple` or `string`) or any other iterable object. It is used when we know the number of iterations beforehand.\n"
   ]
  },
  {
   "cell_type": "code",
   "execution_count": 13,
   "id": "868dfa15-b37c-4c87-9cbd-59e72e27e149",
   "metadata": {},
   "outputs": [
    {
     "name": "stdout",
     "output_type": "stream",
     "text": [
      "apple\n",
      "banana\n",
      "mango\n"
     ]
    }
   ],
   "source": [
    "fruits = ['apple', 'banana', 'mango']\n",
    "for fruit in fruits:\n",
    "    print(fruit)"
   ]
  },
  {
   "cell_type": "markdown",
   "id": "2fae8287-e47e-46df-bbd5-998d207996c6",
   "metadata": {},
   "source": [
    "**b. While Loop:** A while loop is used to iterate over a block of code as long as a certain condition is true. It is used when we don't know how many iterations we will need beforehand."
   ]
  },
  {
   "cell_type": "code",
   "execution_count": 16,
   "id": "f50f981b-9707-4947-9417-7ca06d75f4ab",
   "metadata": {},
   "outputs": [
    {
     "name": "stdout",
     "output_type": "stream",
     "text": [
      "0\n",
      "1\n",
      "2\n",
      "3\n",
      "4\n"
     ]
    }
   ],
   "source": [
    "i = 0\n",
    "while i < 5:\n",
    "    print(i)\n",
    "    i += 1"
   ]
  },
  {
   "cell_type": "markdown",
   "id": "86d50927-0538-484f-96bb-8cc824a404ac",
   "metadata": {},
   "source": [
    "**c. Nested Loops:** A nested loops are used to execute a block of code inside another loop. Nested loop is used when we need to perform multiple iterations over multiple sequences."
   ]
  },
  {
   "cell_type": "code",
   "execution_count": 21,
   "id": "4678189e-7ad2-4ac8-8d4c-aefd1a3a42af",
   "metadata": {},
   "outputs": [
    {
     "name": "stdout",
     "output_type": "stream",
     "text": [
      "fresh apple\n",
      "fresh banana\n",
      "fresh mango\n",
      "tasty apple\n",
      "tasty banana\n",
      "tasty mango\n"
     ]
    }
   ],
   "source": [
    "adj = [\"fresh\", \"tasty\"]\n",
    "fruits = [\"apple\", \"banana\", \"mango\"]\n",
    "\n",
    "for x in adj:\n",
    "  for y in fruits:\n",
    "    print(x, y)"
   ]
  }
 ],
 "metadata": {
  "kernelspec": {
   "display_name": "Python 3 (ipykernel)",
   "language": "python",
   "name": "python3"
  },
  "language_info": {
   "codemirror_mode": {
    "name": "ipython",
    "version": 3
   },
   "file_extension": ".py",
   "mimetype": "text/x-python",
   "name": "python",
   "nbconvert_exporter": "python",
   "pygments_lexer": "ipython3",
   "version": "3.10.8"
  }
 },
 "nbformat": 4,
 "nbformat_minor": 5
}
